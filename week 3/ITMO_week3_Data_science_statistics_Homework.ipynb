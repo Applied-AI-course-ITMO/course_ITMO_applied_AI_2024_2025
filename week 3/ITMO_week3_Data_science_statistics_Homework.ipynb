{
  "nbformat": 4,
  "nbformat_minor": 0,
  "metadata": {
    "colab": {
      "provenance": [],
      "collapsed_sections": [
        "h0TFg2Zw2tXR"
      ]
    },
    "kernelspec": {
      "name": "python3",
      "display_name": "Python 3"
    },
    "language_info": {
      "name": "python"
    }
  },
  "cells": [
    {
      "cell_type": "markdown",
      "source": [
        "## Introduction to Data Science\n",
        "\n",
        "The main tasks were devided into two parts:\n",
        "1. Task 1: to make the fitting of the income distribution (one-variable dataset)\n",
        "2. Task 2: to show the different fits for two-variable dataset (with two different parameters-variables)\n",
        "\n",
        "See more details from Big data course LPI\n",
        "https://github.com/Big-data-course-CRI\n"
      ],
      "metadata": {
        "id": "Z0NWCKCo2aoD"
      }
    },
    {
      "cell_type": "markdown",
      "source": [
        "# **Task 1**\n",
        "* Use a linear regression to compute the exponent of the power law of\n",
        "the income distribution.\n",
        "- Show the resulting regression as a red line on the plot on the left.\n",
        "* Then do the same for the Complementary cumulative distribution\n",
        "function.\n",
        "\n",
        "# Data\n",
        "We will first load the data, which we worked with in #week1 from single variable analysis"
      ],
      "metadata": {
        "id": "h0TFg2Zw2tXR"
      }
    },
    {
      "cell_type": "code",
      "source": [
        "# importing necessary libraries\n",
        "import numpy as np\n",
        "import matplotlib.pyplot as plt\n",
        "%matplotlib inline\n",
        "import scipy.stats as stats\n",
        "import pandas as pd"
      ],
      "metadata": {
        "id": "jCWe1XWP2ntO"
      },
      "execution_count": 1,
      "outputs": []
    },
    {
      "cell_type": "code",
      "source": [
        "# load real data from the incomes\n",
        "\n",
        "datademographic = np.loadtxt('./demographics.csv', skiprows=1, delimiter=',', dtype=int) # Success!\n",
        "datademographic.dtype\n",
        "\n",
        "\n",
        "#. we will need just one column from the data\n",
        "# let us open it as pandas dataframe\n",
        "\n",
        "import pandas as pd\n",
        "#datademographic = np.loadtxt('demographics.csv') # First attempt to load data\n",
        "\n",
        "dfdemo = pd.DataFrame(datademographic)\n",
        "dfdemo.head()\n",
        "\n",
        "\n",
        "\n",
        "\n"
      ],
      "metadata": {
        "colab": {
          "base_uri": "https://localhost:8080/",
          "height": 206
        },
        "id": "8mWE0IaqoBMC",
        "outputId": "10f1cf99-081c-4f05-e941-320ed560edd3"
      },
      "execution_count": 4,
      "outputs": [
        {
          "output_type": "execute_result",
          "data": {
            "text/plain": [
              "   0  1  2   3      4  5\n",
              "0  1  1  0  41  40367  0\n",
              "1  2  1  0  54  45084  0\n",
              "2  3  1  0  42  52483  0\n",
              "3  4  1  0  40  40941  0\n",
              "4  5  1  0  46  50289  0"
            ],
            "text/html": [
              "\n",
              "  <div id=\"df-c4a7551c-32f2-4960-bd87-27a8e506b215\" class=\"colab-df-container\">\n",
              "    <div>\n",
              "<style scoped>\n",
              "    .dataframe tbody tr th:only-of-type {\n",
              "        vertical-align: middle;\n",
              "    }\n",
              "\n",
              "    .dataframe tbody tr th {\n",
              "        vertical-align: top;\n",
              "    }\n",
              "\n",
              "    .dataframe thead th {\n",
              "        text-align: right;\n",
              "    }\n",
              "</style>\n",
              "<table border=\"1\" class=\"dataframe\">\n",
              "  <thead>\n",
              "    <tr style=\"text-align: right;\">\n",
              "      <th></th>\n",
              "      <th>0</th>\n",
              "      <th>1</th>\n",
              "      <th>2</th>\n",
              "      <th>3</th>\n",
              "      <th>4</th>\n",
              "      <th>5</th>\n",
              "    </tr>\n",
              "  </thead>\n",
              "  <tbody>\n",
              "    <tr>\n",
              "      <th>0</th>\n",
              "      <td>1</td>\n",
              "      <td>1</td>\n",
              "      <td>0</td>\n",
              "      <td>41</td>\n",
              "      <td>40367</td>\n",
              "      <td>0</td>\n",
              "    </tr>\n",
              "    <tr>\n",
              "      <th>1</th>\n",
              "      <td>2</td>\n",
              "      <td>1</td>\n",
              "      <td>0</td>\n",
              "      <td>54</td>\n",
              "      <td>45084</td>\n",
              "      <td>0</td>\n",
              "    </tr>\n",
              "    <tr>\n",
              "      <th>2</th>\n",
              "      <td>3</td>\n",
              "      <td>1</td>\n",
              "      <td>0</td>\n",
              "      <td>42</td>\n",
              "      <td>52483</td>\n",
              "      <td>0</td>\n",
              "    </tr>\n",
              "    <tr>\n",
              "      <th>3</th>\n",
              "      <td>4</td>\n",
              "      <td>1</td>\n",
              "      <td>0</td>\n",
              "      <td>40</td>\n",
              "      <td>40941</td>\n",
              "      <td>0</td>\n",
              "    </tr>\n",
              "    <tr>\n",
              "      <th>4</th>\n",
              "      <td>5</td>\n",
              "      <td>1</td>\n",
              "      <td>0</td>\n",
              "      <td>46</td>\n",
              "      <td>50289</td>\n",
              "      <td>0</td>\n",
              "    </tr>\n",
              "  </tbody>\n",
              "</table>\n",
              "</div>\n",
              "    <div class=\"colab-df-buttons\">\n",
              "\n",
              "  <div class=\"colab-df-container\">\n",
              "    <button class=\"colab-df-convert\" onclick=\"convertToInteractive('df-c4a7551c-32f2-4960-bd87-27a8e506b215')\"\n",
              "            title=\"Convert this dataframe to an interactive table.\"\n",
              "            style=\"display:none;\">\n",
              "\n",
              "  <svg xmlns=\"http://www.w3.org/2000/svg\" height=\"24px\" viewBox=\"0 -960 960 960\">\n",
              "    <path d=\"M120-120v-720h720v720H120Zm60-500h600v-160H180v160Zm220 220h160v-160H400v160Zm0 220h160v-160H400v160ZM180-400h160v-160H180v160Zm440 0h160v-160H620v160ZM180-180h160v-160H180v160Zm440 0h160v-160H620v160Z\"/>\n",
              "  </svg>\n",
              "    </button>\n",
              "\n",
              "  <style>\n",
              "    .colab-df-container {\n",
              "      display:flex;\n",
              "      gap: 12px;\n",
              "    }\n",
              "\n",
              "    .colab-df-convert {\n",
              "      background-color: #E8F0FE;\n",
              "      border: none;\n",
              "      border-radius: 50%;\n",
              "      cursor: pointer;\n",
              "      display: none;\n",
              "      fill: #1967D2;\n",
              "      height: 32px;\n",
              "      padding: 0 0 0 0;\n",
              "      width: 32px;\n",
              "    }\n",
              "\n",
              "    .colab-df-convert:hover {\n",
              "      background-color: #E2EBFA;\n",
              "      box-shadow: 0px 1px 2px rgba(60, 64, 67, 0.3), 0px 1px 3px 1px rgba(60, 64, 67, 0.15);\n",
              "      fill: #174EA6;\n",
              "    }\n",
              "\n",
              "    .colab-df-buttons div {\n",
              "      margin-bottom: 4px;\n",
              "    }\n",
              "\n",
              "    [theme=dark] .colab-df-convert {\n",
              "      background-color: #3B4455;\n",
              "      fill: #D2E3FC;\n",
              "    }\n",
              "\n",
              "    [theme=dark] .colab-df-convert:hover {\n",
              "      background-color: #434B5C;\n",
              "      box-shadow: 0px 1px 3px 1px rgba(0, 0, 0, 0.15);\n",
              "      filter: drop-shadow(0px 1px 2px rgba(0, 0, 0, 0.3));\n",
              "      fill: #FFFFFF;\n",
              "    }\n",
              "  </style>\n",
              "\n",
              "    <script>\n",
              "      const buttonEl =\n",
              "        document.querySelector('#df-c4a7551c-32f2-4960-bd87-27a8e506b215 button.colab-df-convert');\n",
              "      buttonEl.style.display =\n",
              "        google.colab.kernel.accessAllowed ? 'block' : 'none';\n",
              "\n",
              "      async function convertToInteractive(key) {\n",
              "        const element = document.querySelector('#df-c4a7551c-32f2-4960-bd87-27a8e506b215');\n",
              "        const dataTable =\n",
              "          await google.colab.kernel.invokeFunction('convertToInteractive',\n",
              "                                                    [key], {});\n",
              "        if (!dataTable) return;\n",
              "\n",
              "        const docLinkHtml = 'Like what you see? Visit the ' +\n",
              "          '<a target=\"_blank\" href=https://colab.research.google.com/notebooks/data_table.ipynb>data table notebook</a>'\n",
              "          + ' to learn more about interactive tables.';\n",
              "        element.innerHTML = '';\n",
              "        dataTable['output_type'] = 'display_data';\n",
              "        await google.colab.output.renderOutput(dataTable, element);\n",
              "        const docLink = document.createElement('div');\n",
              "        docLink.innerHTML = docLinkHtml;\n",
              "        element.appendChild(docLink);\n",
              "      }\n",
              "    </script>\n",
              "  </div>\n",
              "\n",
              "\n",
              "<div id=\"df-f22433ad-7c50-4340-8e3e-738763aac024\">\n",
              "  <button class=\"colab-df-quickchart\" onclick=\"quickchart('df-f22433ad-7c50-4340-8e3e-738763aac024')\"\n",
              "            title=\"Suggest charts\"\n",
              "            style=\"display:none;\">\n",
              "\n",
              "<svg xmlns=\"http://www.w3.org/2000/svg\" height=\"24px\"viewBox=\"0 0 24 24\"\n",
              "     width=\"24px\">\n",
              "    <g>\n",
              "        <path d=\"M19 3H5c-1.1 0-2 .9-2 2v14c0 1.1.9 2 2 2h14c1.1 0 2-.9 2-2V5c0-1.1-.9-2-2-2zM9 17H7v-7h2v7zm4 0h-2V7h2v10zm4 0h-2v-4h2v4z\"/>\n",
              "    </g>\n",
              "</svg>\n",
              "  </button>\n",
              "\n",
              "<style>\n",
              "  .colab-df-quickchart {\n",
              "      --bg-color: #E8F0FE;\n",
              "      --fill-color: #1967D2;\n",
              "      --hover-bg-color: #E2EBFA;\n",
              "      --hover-fill-color: #174EA6;\n",
              "      --disabled-fill-color: #AAA;\n",
              "      --disabled-bg-color: #DDD;\n",
              "  }\n",
              "\n",
              "  [theme=dark] .colab-df-quickchart {\n",
              "      --bg-color: #3B4455;\n",
              "      --fill-color: #D2E3FC;\n",
              "      --hover-bg-color: #434B5C;\n",
              "      --hover-fill-color: #FFFFFF;\n",
              "      --disabled-bg-color: #3B4455;\n",
              "      --disabled-fill-color: #666;\n",
              "  }\n",
              "\n",
              "  .colab-df-quickchart {\n",
              "    background-color: var(--bg-color);\n",
              "    border: none;\n",
              "    border-radius: 50%;\n",
              "    cursor: pointer;\n",
              "    display: none;\n",
              "    fill: var(--fill-color);\n",
              "    height: 32px;\n",
              "    padding: 0;\n",
              "    width: 32px;\n",
              "  }\n",
              "\n",
              "  .colab-df-quickchart:hover {\n",
              "    background-color: var(--hover-bg-color);\n",
              "    box-shadow: 0 1px 2px rgba(60, 64, 67, 0.3), 0 1px 3px 1px rgba(60, 64, 67, 0.15);\n",
              "    fill: var(--button-hover-fill-color);\n",
              "  }\n",
              "\n",
              "  .colab-df-quickchart-complete:disabled,\n",
              "  .colab-df-quickchart-complete:disabled:hover {\n",
              "    background-color: var(--disabled-bg-color);\n",
              "    fill: var(--disabled-fill-color);\n",
              "    box-shadow: none;\n",
              "  }\n",
              "\n",
              "  .colab-df-spinner {\n",
              "    border: 2px solid var(--fill-color);\n",
              "    border-color: transparent;\n",
              "    border-bottom-color: var(--fill-color);\n",
              "    animation:\n",
              "      spin 1s steps(1) infinite;\n",
              "  }\n",
              "\n",
              "  @keyframes spin {\n",
              "    0% {\n",
              "      border-color: transparent;\n",
              "      border-bottom-color: var(--fill-color);\n",
              "      border-left-color: var(--fill-color);\n",
              "    }\n",
              "    20% {\n",
              "      border-color: transparent;\n",
              "      border-left-color: var(--fill-color);\n",
              "      border-top-color: var(--fill-color);\n",
              "    }\n",
              "    30% {\n",
              "      border-color: transparent;\n",
              "      border-left-color: var(--fill-color);\n",
              "      border-top-color: var(--fill-color);\n",
              "      border-right-color: var(--fill-color);\n",
              "    }\n",
              "    40% {\n",
              "      border-color: transparent;\n",
              "      border-right-color: var(--fill-color);\n",
              "      border-top-color: var(--fill-color);\n",
              "    }\n",
              "    60% {\n",
              "      border-color: transparent;\n",
              "      border-right-color: var(--fill-color);\n",
              "    }\n",
              "    80% {\n",
              "      border-color: transparent;\n",
              "      border-right-color: var(--fill-color);\n",
              "      border-bottom-color: var(--fill-color);\n",
              "    }\n",
              "    90% {\n",
              "      border-color: transparent;\n",
              "      border-bottom-color: var(--fill-color);\n",
              "    }\n",
              "  }\n",
              "</style>\n",
              "\n",
              "  <script>\n",
              "    async function quickchart(key) {\n",
              "      const quickchartButtonEl =\n",
              "        document.querySelector('#' + key + ' button');\n",
              "      quickchartButtonEl.disabled = true;  // To prevent multiple clicks.\n",
              "      quickchartButtonEl.classList.add('colab-df-spinner');\n",
              "      try {\n",
              "        const charts = await google.colab.kernel.invokeFunction(\n",
              "            'suggestCharts', [key], {});\n",
              "      } catch (error) {\n",
              "        console.error('Error during call to suggestCharts:', error);\n",
              "      }\n",
              "      quickchartButtonEl.classList.remove('colab-df-spinner');\n",
              "      quickchartButtonEl.classList.add('colab-df-quickchart-complete');\n",
              "    }\n",
              "    (() => {\n",
              "      let quickchartButtonEl =\n",
              "        document.querySelector('#df-f22433ad-7c50-4340-8e3e-738763aac024 button');\n",
              "      quickchartButtonEl.style.display =\n",
              "        google.colab.kernel.accessAllowed ? 'block' : 'none';\n",
              "    })();\n",
              "  </script>\n",
              "</div>\n",
              "    </div>\n",
              "  </div>\n"
            ],
            "application/vnd.google.colaboratory.intrinsic+json": {
              "type": "dataframe",
              "variable_name": "dfdemo"
            }
          },
          "metadata": {},
          "execution_count": 4
        }
      ]
    },
    {
      "cell_type": "code",
      "source": [
        "# cleaning the data\n",
        "\n",
        "mask = (datademographic[:,4] < 10 ** 11)\n",
        "print(np.count_nonzero(mask))\n",
        "print(np.where(mask == False))\n",
        "\n",
        "datademographic_cleaned = datademographic[mask,:]\n",
        "datademographic_cleaned.shape # double-check\n",
        "\n",
        "\n",
        "fig = plt.figure(figsize=(6, 4))\n",
        "axes = fig.add_axes([0.2, 0.2, 0.6, 0.6]) # left, bottom, width, height (range 0 to 1)\n",
        "axes.hist(datademographic_cleaned[:,4], 100); # The second argument sets the number of bins.\n",
        "\n",
        "axes.set_xlabel('Income')\n",
        "axes.set_ylabel('Counts')\n",
        "axes.set_title('Histogram of incomes (cleaned data)');\n",
        "\n",
        "\n",
        "fig = plt.figure(figsize=(6, 4))\n",
        "axes = fig.add_axes([0.2, 0.2, 0.6, 0.6]) # left, bottom, width, height (range 0 to 1)\n",
        "axes.hist(datademographic[:,4], 100); # The second argument sets the number of bins.\n",
        "\n",
        "axes.set_xlabel('Income')\n",
        "axes.set_ylabel('Counts')\n",
        "axes.set_title('Histogram of incomes (not cleaned data)');"
      ],
      "metadata": {
        "colab": {
          "base_uri": "https://localhost:8080/",
          "height": 704
        },
        "id": "xiX7dNPTtWRL",
        "outputId": "43d9b0b1-b6e1-4146-fbc0-b98d82275fd4"
      },
      "execution_count": 9,
      "outputs": [
        {
          "output_type": "stream",
          "name": "stdout",
          "text": [
            "149997\n",
            "(array([ 9, 10, 11]),)\n"
          ]
        },
        {
          "output_type": "display_data",
          "data": {
            "text/plain": [
              "<Figure size 600x400 with 1 Axes>"
            ],
            "image/png": "[encoded data removed]"
          },
          "metadata": {}
        },
        {
          "output_type": "display_data",
          "data": {
            "text/plain": [
              "<Figure size 600x400 with 1 Axes>"
            ],
            "image/png": "[encoded data removed]"
          },
          "metadata": {}
        }
      ]
    },
    {
      "cell_type": "markdown",
      "source": [
        "# Random data\n",
        "\n",
        "Let us try first to find the dependency on the random data."
      ],
      "metadata": {
        "id": "_TE3NRg9t53w"
      }
    },
    {
      "cell_type": "code",
      "source": [
        "# fake data that somewhat models real income distributions\n",
        "#  skewed to the right because there is a small number of people that have very large incomes and a lot of people with very small income (typically)\n",
        "# recalling Pareto law\n",
        "\n",
        "\n",
        "np.random.seed(seed=10)\n",
        "incomes = 10000*(1+np.random.pareto(1.0, 1000))\n",
        "incomes = incomes.astype(int)"
      ],
      "metadata": {
        "id": "LLKqfk323HUl"
      },
      "execution_count": 7,
      "outputs": []
    },
    {
      "cell_type": "markdown",
      "source": [
        "Plotting the simulated data\n",
        "\n",
        "Check how plotting and choosing the boxes for plotting may influence plotting."
      ],
      "metadata": {
        "id": "oCcagvEdtqBT"
      }
    },
    {
      "cell_type": "code",
      "source": [
        "# plotting the data\n",
        "fig = plt.figure(figsize=(4, 3))\n",
        "axes = fig.add_axes([0, 0, 1, 1])\n",
        "\n",
        "axes.hist(incomes, 500, edgecolor=\"w\")\n",
        "axes.set_xlim([10000,200000])\n",
        "axes.set_xlabel(\"Income\")\n",
        "axes.set_ylabel(\"Number of people in income group\");"
      ],
      "metadata": {
        "colab": {
          "base_uri": "https://localhost:8080/",
          "height": 380
        },
        "id": "dcuMueeI5RIR",
        "outputId": "471647bb-3b79-4411-8164-73dbe97913da"
      },
      "execution_count": 10,
      "outputs": [
        {
          "output_type": "display_data",
          "data": {
            "text/plain": [
              "<Figure size 400x300 with 1 Axes>"
            ],
            "image/png": "[encoded data removed]"
          },
          "metadata": {}
        }
      ]
    },
    {
      "cell_type": "code",
      "source": [
        "# log-log plot of the probability density function of the income distribution\n",
        "# this gives us a better understanding of the data\n",
        "# before we weren't able to conclude anything from the right tail\n",
        "# now we can, since the logarithmic transformation reduces the difference between very large and small incomes\n",
        "# the bins, the y and the x axis are all transformed with log\n",
        "\n",
        "fig = plt.figure(figsize=(4, 3))\n",
        "axes = fig.add_axes([0, 0, 1, 1])\n",
        "\n",
        "minx = min(incomes)\n",
        "maxx = max(incomes)\n",
        "num_bins = 50\n",
        "logbins = np.logspace(np.log10(minx), np.log10(maxx), num_bins)\n",
        "\n",
        "h, binedges = np.histogram(incomes,  bins=logbins, density=True)\n",
        "binmidpoints = (binedges[1:] + binedges[:-1]) / 2\n",
        "axes.plot(binmidpoints, h, \"o\")\n",
        "axes.set_xlabel(\"Income x\")\n",
        "axes.set_ylabel(\"f(x)\");\n",
        "# display the x and y axes on a logarithmic scale with matplotlib\n",
        "axes.set_xscale('log')\n",
        "axes.set_yscale('log')\n",
        "axes.grid(True,which=\"both\",ls=\"-\")"
      ],
      "metadata": {
        "colab": {
          "base_uri": "https://localhost:8080/",
          "height": 384
        },
        "id": "1IcjEJP06gwe",
        "outputId": "bd376644-2a12-4200-c1fe-e542a8fa8178"
      },
      "execution_count": 11,
      "outputs": [
        {
          "output_type": "display_data",
          "data": {
            "text/plain": [
              "<Figure size 400x300 with 1 Axes>"
            ],
            "image/png": "[encoded data removed]"
          },
          "metadata": {}
        }
      ]
    },
    {
      "cell_type": "markdown",
      "source": [
        "From the previous graph, we can conclude that with logarithmic transformation we turned the power law distribution into a linear one. This means that we can find a best-fit line that goes through the data points with the smallest error possible. The process of finding this line is called **linear regression**. The slope of that line is also the exponent of the power law distribution (as seen when we take the log of both sides of a power function). We should calculate this exponent to get more insight into our data.\n",
        "On this graph, we can already see that the slope is a negative number. This means that as the independent variable x increases, the dependent variable y tends to decrease (more people with lower incomes).\n",
        "\n",
        "a) Use a linear regression to compute the exponent of the power law of the income distribution.\n",
        "\n",
        " To find the exponent: we need to do a log transformation of the data,\n",
        " find the function for the linear regression line and from it conclude the slope (the exponent)\n",
        "\n",
        " as shown on the previous graph, the x-axis contains the bin midpoints (averages of the lower and upper limit of each bin)\n",
        "\n",
        " y-axis contains the histogram densities, proportion of data points that fall into each bin (numbers from 0 to 1)\n",
        "\n",
        " we need to log transform both the x and the y vvalues (which we did before by using matplotlib built in function to visualize log transformed axes)\n",
        "\n",
        " now we can use numpy's built in function for calculating the 10 based logarithm of x and y values\n",
        "\n",
        " since log(0) doesn't exist, and histogram values for some bins are zero (as seen on previous graph), the logarithm of those values will be NaN\n",
        "\n",
        "  therefore, to avoid NaN values that cannot be used for linear regression, we will only calculate the logs for y (h) values not equal to 0 (by filtering them out)\n"
      ],
      "metadata": {
        "id": "KCKQvv928Ju-"
      }
    },
    {
      "cell_type": "code",
      "source": [
        "\n",
        "valid_boolean_mask = h != 0\n",
        "# print(valid_boolean_mask)\n",
        "log_x_values = np.log10(binmidpoints[valid_boolean_mask])\n",
        "valid_h = h[valid_boolean_mask]\n",
        "log_y_values = np.log10(valid_h)\n",
        "\n",
        "# after the log transformation of x and y values, we can perform linear regression on the transformed data\n",
        "# we do this with linregress from the scipy.stats module\n",
        "# with lingress, we can calculate the slope, intercept, the correlation coefficient r, p value and standard error of the estimated slope\n",
        "\n",
        "slope, intercept, r_value, p_value, std_err = stats.linregress(log_x_values, log_y_values)\n",
        "\n",
        "# finally, the exponent of the power law is the same as the slope of the linear regression line\n",
        "print(f\"Exponent: {slope:.2f}\")"
      ],
      "metadata": {
        "colab": {
          "base_uri": "https://localhost:8080/"
        },
        "id": "MSCae_5CA8zY",
        "outputId": "a1a796db-4232-4556-a236-aad7a6a85238"
      },
      "execution_count": 13,
      "outputs": [
        {
          "output_type": "stream",
          "name": "stdout",
          "text": [
            "Exponent: -1.84\n"
          ]
        }
      ]
    },
    {
      "cell_type": "markdown",
      "source": [
        "So, the exponent of the powerlaw is -1,84 which is quite high. When the x values or the incomes increase, there is a steep decline in the y values or the number of individuals. Very few individuals have very high incomes, while a larger portion of the population has lower incomes.\n",
        "\n",
        "# Plotting the fit\n",
        "b) Show the resulting regression as a red line on the plot on the left.\n",
        "\n",
        "We can calculate the regression line y=a+bx with the slope b and the intercept a that we already calculated\n",
        "exponentiate with base 10 to return to original scale, because x and y values are showed on the plot in their original scales.\n"
      ],
      "metadata": {
        "id": "Ghd5pV8hZwG1"
      }
    },
    {
      "cell_type": "code",
      "source": [
        "\n",
        "regression_line = 10**(intercept + slope * np.log10(binmidpoints))\n",
        "\n",
        "# we can plot it with matplotlib like we did before\n",
        "fig = plt.figure(figsize=(4, 3))\n",
        "axes = fig.add_axes([0, 0, 1, 1])\n",
        "\n",
        "axes.plot(binmidpoints, h, \"o\", label=\"Income Data\")\n",
        "axes.set_xlabel(\"Income x\")\n",
        "axes.set_ylabel(\"f(x)\")\n",
        "axes.set_xscale('log')\n",
        "axes.set_yscale('log')\n",
        "axes.grid(True, which=\"both\", ls=\"-\")\n",
        "axes.plot(binmidpoints, regression_line, 'r-', label=f'Linear Regression Line')\n",
        "axes.legend()\n",
        "plt.show()"
      ],
      "metadata": {
        "colab": {
          "base_uri": "https://localhost:8080/",
          "height": 384
        },
        "id": "lOtHHuCfXHfi",
        "outputId": "01e6079c-7131-4e08-9588-b46adb68e53f"
      },
      "execution_count": 14,
      "outputs": [
        {
          "output_type": "display_data",
          "data": {
            "text/plain": [
              "<Figure size 400x300 with 1 Axes>"
            ],
            "image/png": "[encoded data removed]"
          },
          "metadata": {}
        }
      ]
    },
    {
      "cell_type": "markdown",
      "source": [
        "The **Cumulative distribution function** is the probability that a variable\n",
        "$ X $ is smaller than or equal to a value $x$. The **Complementary cumulative distribution function** (CCDF) it is its inverse function, defined as $ P(X ≥ x)$.\n",
        "\n",
        "Visualising the CCDF will give us more information about our rightly skewed data since it shows the probabilities of extreme values. Examining the CCDF plot will help us understand the distribution of high incomes. We can calculate the CCDF by using this formula in a sorted dataset:\n",
        "$$ CCDF(x_i) = 1 - \\frac{i}{n} $$\n",
        "\n",
        "where $i$ is the index of the income value $x_i$ and $n$ is the total number of data points.\n"
      ],
      "metadata": {
        "id": "Iefl1KzfMZLZ"
      }
    },
    {
      "cell_type": "code",
      "source": [
        "# Plotting the CCDF without log transformation of the data\n",
        "\n",
        "sorted_incomes = np.sort(incomes)\n",
        "ccdf = 1 - np.arange(1, len(sorted_incomes) + 1) / len(sorted_incomes)\n",
        "\n",
        "fig = plt.figure(figsize=(4, 3))\n",
        "axes = fig.add_axes([0, 0, 1, 1])\n",
        "\n",
        "axes.plot(sorted_incomes, ccdf, label=\"CCDF\")\n",
        "axes.set_xlabel(\"Income\")\n",
        "axes.set_ylabel(\"CCDF\")\n",
        "axes.grid(True, which=\"both\", ls=\"-\")\n",
        "axes.legend()\n",
        "\n",
        "plt.show()"
      ],
      "metadata": {
        "colab": {
          "base_uri": "https://localhost:8080/",
          "height": 380
        },
        "id": "Q0IACYu-PwLb",
        "outputId": "7d152e30-edc3-4286-b054-0724af8200ed"
      },
      "execution_count": 15,
      "outputs": [
        {
          "output_type": "display_data",
          "data": {
            "text/plain": [
              "<Figure size 400x300 with 1 Axes>"
            ],
            "image/png": "[encoded data removed]"
          },
          "metadata": {}
        }
      ]
    },
    {
      "cell_type": "code",
      "source": [
        "#  c) Then do the same for the Complementary cumulative distribution function.\n",
        "\n",
        "# we will again transform the data with log, so we can better visualize the incomes\n",
        "# skip values where ccdf is 0 because there is no log of zero\n",
        "\n",
        "valid_boolean_mask = ccdf != 0\n",
        "log_ccdf_x_values = np.log10(sorted_incomes[valid_boolean_mask])\n",
        "log_ccdf_y_values = np.log10(ccdf[valid_boolean_mask])\n",
        "\n",
        "fig = plt.figure(figsize=(4, 3))\n",
        "axes = fig.add_axes([0, 0, 1, 1])\n",
        "\n",
        "axes.plot(log_ccdf_x_values, log_ccdf_y_values, label=\"Log-Transformed CCDF\")\n",
        "axes.set_xlabel(\"Log(Income)\")\n",
        "axes.set_ylabel(\"Log(CCDF)\")\n",
        "axes.grid(True, which=\"both\", ls=\"-\")\n",
        "axes.legend()\n",
        "\n",
        "plt.show()"
      ],
      "metadata": {
        "colab": {
          "base_uri": "https://localhost:8080/",
          "height": 380
        },
        "id": "vRUKe706Wt5A",
        "outputId": "f2d18a24-901e-4b8f-ce19-027482a0f312"
      },
      "execution_count": 16,
      "outputs": [
        {
          "output_type": "display_data",
          "data": {
            "text/plain": [
              "<Figure size 400x300 with 1 Axes>"
            ],
            "image/png": "[encoded data removed]"
          },
          "metadata": {}
        }
      ]
    },
    {
      "cell_type": "code",
      "source": [
        "# Plot the regression line and print its slope (or the exponent of the power law)\n",
        "slope, intercept, r_value, p_value, std_err = stats.linregress(log_ccdf_x_values, log_ccdf_y_values)\n",
        "\n",
        "regression_line = intercept + slope * log_ccdf_x_values\n",
        "# the regression line remains in log space, because the x and the y values on the plot also represent the logarithms of the original x (incomes) and y values (ccdf)\n",
        "\n",
        "fig = plt.figure(figsize=(4, 3))\n",
        "axes = fig.add_axes([0, 0, 1, 1])\n",
        "\n",
        "axes.plot(log_ccdf_x_values, log_ccdf_y_values, label=\"Log-Transformed CCDF\")\n",
        "\n",
        "axes.plot(log_ccdf_x_values, regression_line, 'r-', label=f'Linear Regression Line')\n",
        "\n",
        "axes.set_xlabel(\"Log(Income)\")\n",
        "axes.set_ylabel(\"Log(CCDF)\")\n",
        "axes.grid(True, which=\"both\", ls=\"-\")\n",
        "axes.legend()\n",
        "\n",
        "plt.show()\n",
        "\n",
        "print(f\"Slope of the log CCDF regression line: {slope:.2f}\")"
      ],
      "metadata": {
        "colab": {
          "base_uri": "https://localhost:8080/",
          "height": 398
        },
        "id": "CqleMDsxfChn",
        "outputId": "19d8eedf-8f76-4109-f3c4-193f5fce9d53"
      },
      "execution_count": 17,
      "outputs": [
        {
          "output_type": "display_data",
          "data": {
            "text/plain": [
              "<Figure size 400x300 with 1 Axes>"
            ],
            "image/png": "[encoded data removed]"
          },
          "metadata": {}
        },
        {
          "output_type": "stream",
          "name": "stdout",
          "text": [
            "Slope of the log CCDF regression line: -1.03\n"
          ]
        }
      ]
    },
    {
      "cell_type": "markdown",
      "source": [
        "The slope of the log-transformed CCDF regression line is -1.03 so it has a slower decline compared to the probability density function slope of -1.84.The CCDF exhibits a power law distribution, where the probability of having an income greater than or equal to a certain value decreases more slowly. A small fraction of the population holds a significant portion of total income so they influence overall wealth distribution."
      ],
      "metadata": {
        "id": "c-DPX8w_nGAZ"
      }
    },
    {
      "cell_type": "markdown",
      "source": [
        "# **Task 2**\n",
        "\n",
        "* Using a statistical test, find the optimal threshold BMI where there is significant increase of charges for smokers. This defines 2\n",
        "categories (low BMI smokers and high BMI smokers)\n",
        "* Show the regression fits for these two categories.\n",
        "* Create a barplot showing the mean and standard error of charges for\n",
        "the two categories. Compute the relevant statistical test and print the\n",
        "result of the estimate and p-value.\n",
        "* OPTIONAL Plot a ROC curve showing the classification of the two\n",
        "categories (high BMI vs low BMI) by charges. Compute the AUC, the\n",
        "corresponding statistical test and report the estimate and p-value."
      ],
      "metadata": {
        "id": "PVntWcsJ98I3"
      }
    },
    {
      "cell_type": "markdown",
      "source": [
        "For this task, we are going to use the insurance.csv dataset found on Kaggle. This data set contains demographic information about individuals (age, sex, bmi - body mass index), num of children, where they live (region), whether they smoke, and how much they pay for health insurance (charges)."
      ],
      "metadata": {
        "id": "gmQF8mRg_beq"
      }
    },
    {
      "cell_type": "code",
      "source": [
        "# if the dataset is saved in the files folder\n",
        "# creating a dataframe to easily manipulate data\n",
        "\n",
        "# Data set downloaded from: https://www.kaggle.com/mirichoi0218/insurance/downloads/insurance.zip/1\n",
        "!head insurance.csv\n",
        "\n",
        "df = pd.read_csv('insurance.csv')"
      ],
      "metadata": {
        "id": "hwk25-SNAW_j",
        "colab": {
          "base_uri": "https://localhost:8080/"
        },
        "outputId": "91b3f04a-9448-4bef-e085-c0bbc0878e0f"
      },
      "execution_count": 18,
      "outputs": [
        {
          "output_type": "stream",
          "name": "stdout",
          "text": [
            "age,sex,bmi,children,smoker,region,charges\r\n",
            "19,female,27.9,0,yes,southwest,16884.924\r\n",
            "18,male,33.77,1,no,southeast,1725.5523\r\n",
            "28,male,33,3,no,southeast,4449.462\r\n",
            "33,male,22.705,0,no,northwest,21984.47061\r\n",
            "32,male,28.88,0,no,northwest,3866.8552\r\n",
            "31,female,25.74,0,no,southeast,3756.6216\r\n",
            "46,female,33.44,1,no,southeast,8240.5896\r\n",
            "37,female,27.74,3,no,northwest,7281.5056\r\n",
            "37,male,29.83,2,no,northeast,6406.4107\r\n"
          ]
        }
      ]
    },
    {
      "cell_type": "code",
      "source": [
        "df.head()"
      ],
      "metadata": {
        "colab": {
          "base_uri": "https://localhost:8080/",
          "height": 206
        },
        "id": "UtIyDj17Au-v",
        "outputId": "bf302a02-62eb-4019-8270-e27fb887ffc2"
      },
      "execution_count": 19,
      "outputs": [
        {
          "output_type": "execute_result",
          "data": {
            "text/plain": [
              "   age     sex     bmi  children smoker     region      charges\n",
              "0   19  female  27.900         0    yes  southwest  16884.92400\n",
              "1   18    male  33.770         1     no  southeast   1725.55230\n",
              "2   28    male  33.000         3     no  southeast   4449.46200\n",
              "3   33    male  22.705         0     no  northwest  21984.47061\n",
              "4   32    male  28.880         0     no  northwest   3866.85520"
            ],
            "text/html": [
              "\n",
              "  <div id=\"df-9761986f-9a73-4bd5-bf21-c6a14db6aac7\" class=\"colab-df-container\">\n",
              "    <div>\n",
              "<style scoped>\n",
              "    .dataframe tbody tr th:only-of-type {\n",
              "        vertical-align: middle;\n",
              "    }\n",
              "\n",
              "    .dataframe tbody tr th {\n",
              "        vertical-align: top;\n",
              "    }\n",
              "\n",
              "    .dataframe thead th {\n",
              "        text-align: right;\n",
              "    }\n",
              "</style>\n",
              "<table border=\"1\" class=\"dataframe\">\n",
              "  <thead>\n",
              "    <tr style=\"text-align: right;\">\n",
              "      <th></th>\n",
              "      <th>age</th>\n",
              "      <th>sex</th>\n",
              "      <th>bmi</th>\n",
              "      <th>children</th>\n",
              "      <th>smoker</th>\n",
              "      <th>region</th>\n",
              "      <th>charges</th>\n",
              "    </tr>\n",
              "  </thead>\n",
              "  <tbody>\n",
              "    <tr>\n",
              "      <th>0</th>\n",
              "      <td>19</td>\n",
              "      <td>female</td>\n",
              "      <td>27.900</td>\n",
              "      <td>0</td>\n",
              "      <td>yes</td>\n",
              "      <td>southwest</td>\n",
              "      <td>16884.92400</td>\n",
              "    </tr>\n",
              "    <tr>\n",
              "      <th>1</th>\n",
              "      <td>18</td>\n",
              "      <td>male</td>\n",
              "      <td>33.770</td>\n",
              "      <td>1</td>\n",
              "      <td>no</td>\n",
              "      <td>southeast</td>\n",
              "      <td>1725.55230</td>\n",
              "    </tr>\n",
              "    <tr>\n",
              "      <th>2</th>\n",
              "      <td>28</td>\n",
              "      <td>male</td>\n",
              "      <td>33.000</td>\n",
              "      <td>3</td>\n",
              "      <td>no</td>\n",
              "      <td>southeast</td>\n",
              "      <td>4449.46200</td>\n",
              "    </tr>\n",
              "    <tr>\n",
              "      <th>3</th>\n",
              "      <td>33</td>\n",
              "      <td>male</td>\n",
              "      <td>22.705</td>\n",
              "      <td>0</td>\n",
              "      <td>no</td>\n",
              "      <td>northwest</td>\n",
              "      <td>21984.47061</td>\n",
              "    </tr>\n",
              "    <tr>\n",
              "      <th>4</th>\n",
              "      <td>32</td>\n",
              "      <td>male</td>\n",
              "      <td>28.880</td>\n",
              "      <td>0</td>\n",
              "      <td>no</td>\n",
              "      <td>northwest</td>\n",
              "      <td>3866.85520</td>\n",
              "    </tr>\n",
              "  </tbody>\n",
              "</table>\n",
              "</div>\n",
              "    <div class=\"colab-df-buttons\">\n",
              "\n",
              "  <div class=\"colab-df-container\">\n",
              "    <button class=\"colab-df-convert\" onclick=\"convertToInteractive('df-9761986f-9a73-4bd5-bf21-c6a14db6aac7')\"\n",
              "            title=\"Convert this dataframe to an interactive table.\"\n",
              "            style=\"display:none;\">\n",
              "\n",
              "  <svg xmlns=\"http://www.w3.org/2000/svg\" height=\"24px\" viewBox=\"0 -960 960 960\">\n",
              "    <path d=\"M120-120v-720h720v720H120Zm60-500h600v-160H180v160Zm220 220h160v-160H400v160Zm0 220h160v-160H400v160ZM180-400h160v-160H180v160Zm440 0h160v-160H620v160ZM180-180h160v-160H180v160Zm440 0h160v-160H620v160Z\"/>\n",
              "  </svg>\n",
              "    </button>\n",
              "\n",
              "  <style>\n",
              "    .colab-df-container {\n",
              "      display:flex;\n",
              "      gap: 12px;\n",
              "    }\n",
              "\n",
              "    .colab-df-convert {\n",
              "      background-color: #E8F0FE;\n",
              "      border: none;\n",
              "      border-radius: 50%;\n",
              "      cursor: pointer;\n",
              "      display: none;\n",
              "      fill: #1967D2;\n",
              "      height: 32px;\n",
              "      padding: 0 0 0 0;\n",
              "      width: 32px;\n",
              "    }\n",
              "\n",
              "    .colab-df-convert:hover {\n",
              "      background-color: #E2EBFA;\n",
              "      box-shadow: 0px 1px 2px rgba(60, 64, 67, 0.3), 0px 1px 3px 1px rgba(60, 64, 67, 0.15);\n",
              "      fill: #174EA6;\n",
              "    }\n",
              "\n",
              "    .colab-df-buttons div {\n",
              "      margin-bottom: 4px;\n",
              "    }\n",
              "\n",
              "    [theme=dark] .colab-df-convert {\n",
              "      background-color: #3B4455;\n",
              "      fill: #D2E3FC;\n",
              "    }\n",
              "\n",
              "    [theme=dark] .colab-df-convert:hover {\n",
              "      background-color: #434B5C;\n",
              "      box-shadow: 0px 1px 3px 1px rgba(0, 0, 0, 0.15);\n",
              "      filter: drop-shadow(0px 1px 2px rgba(0, 0, 0, 0.3));\n",
              "      fill: #FFFFFF;\n",
              "    }\n",
              "  </style>\n",
              "\n",
              "    <script>\n",
              "      const buttonEl =\n",
              "        document.querySelector('#df-9761986f-9a73-4bd5-bf21-c6a14db6aac7 button.colab-df-convert');\n",
              "      buttonEl.style.display =\n",
              "        google.colab.kernel.accessAllowed ? 'block' : 'none';\n",
              "\n",
              "      async function convertToInteractive(key) {\n",
              "        const element = document.querySelector('#df-9761986f-9a73-4bd5-bf21-c6a14db6aac7');\n",
              "        const dataTable =\n",
              "          await google.colab.kernel.invokeFunction('convertToInteractive',\n",
              "                                                    [key], {});\n",
              "        if (!dataTable) return;\n",
              "\n",
              "        const docLinkHtml = 'Like what you see? Visit the ' +\n",
              "          '<a target=\"_blank\" href=https://colab.research.google.com/notebooks/data_table.ipynb>data table notebook</a>'\n",
              "          + ' to learn more about interactive tables.';\n",
              "        element.innerHTML = '';\n",
              "        dataTable['output_type'] = 'display_data';\n",
              "        await google.colab.output.renderOutput(dataTable, element);\n",
              "        const docLink = document.createElement('div');\n",
              "        docLink.innerHTML = docLinkHtml;\n",
              "        element.appendChild(docLink);\n",
              "      }\n",
              "    </script>\n",
              "  </div>\n",
              "\n",
              "\n",
              "<div id=\"df-607132a9-1788-4da0-83f1-5ee4463b02ff\">\n",
              "  <button class=\"colab-df-quickchart\" onclick=\"quickchart('df-607132a9-1788-4da0-83f1-5ee4463b02ff')\"\n",
              "            title=\"Suggest charts\"\n",
              "            style=\"display:none;\">\n",
              "\n",
              "<svg xmlns=\"http://www.w3.org/2000/svg\" height=\"24px\"viewBox=\"0 0 24 24\"\n",
              "     width=\"24px\">\n",
              "    <g>\n",
              "        <path d=\"M19 3H5c-1.1 0-2 .9-2 2v14c0 1.1.9 2 2 2h14c1.1 0 2-.9 2-2V5c0-1.1-.9-2-2-2zM9 17H7v-7h2v7zm4 0h-2V7h2v10zm4 0h-2v-4h2v4z\"/>\n",
              "    </g>\n",
              "</svg>\n",
              "  </button>\n",
              "\n",
              "<style>\n",
              "  .colab-df-quickchart {\n",
              "      --bg-color: #E8F0FE;\n",
              "      --fill-color: #1967D2;\n",
              "      --hover-bg-color: #E2EBFA;\n",
              "      --hover-fill-color: #174EA6;\n",
              "      --disabled-fill-color: #AAA;\n",
              "      --disabled-bg-color: #DDD;\n",
              "  }\n",
              "\n",
              "  [theme=dark] .colab-df-quickchart {\n",
              "      --bg-color: #3B4455;\n",
              "      --fill-color: #D2E3FC;\n",
              "      --hover-bg-color: #434B5C;\n",
              "      --hover-fill-color: #FFFFFF;\n",
              "      --disabled-bg-color: #3B4455;\n",
              "      --disabled-fill-color: #666;\n",
              "  }\n",
              "\n",
              "  .colab-df-quickchart {\n",
              "    background-color: var(--bg-color);\n",
              "    border: none;\n",
              "    border-radius: 50%;\n",
              "    cursor: pointer;\n",
              "    display: none;\n",
              "    fill: var(--fill-color);\n",
              "    height: 32px;\n",
              "    padding: 0;\n",
              "    width: 32px;\n",
              "  }\n",
              "\n",
              "  .colab-df-quickchart:hover {\n",
              "    background-color: var(--hover-bg-color);\n",
              "    box-shadow: 0 1px 2px rgba(60, 64, 67, 0.3), 0 1px 3px 1px rgba(60, 64, 67, 0.15);\n",
              "    fill: var(--button-hover-fill-color);\n",
              "  }\n",
              "\n",
              "  .colab-df-quickchart-complete:disabled,\n",
              "  .colab-df-quickchart-complete:disabled:hover {\n",
              "    background-color: var(--disabled-bg-color);\n",
              "    fill: var(--disabled-fill-color);\n",
              "    box-shadow: none;\n",
              "  }\n",
              "\n",
              "  .colab-df-spinner {\n",
              "    border: 2px solid var(--fill-color);\n",
              "    border-color: transparent;\n",
              "    border-bottom-color: var(--fill-color);\n",
              "    animation:\n",
              "      spin 1s steps(1) infinite;\n",
              "  }\n",
              "\n",
              "  @keyframes spin {\n",
              "    0% {\n",
              "      border-color: transparent;\n",
              "      border-bottom-color: var(--fill-color);\n",
              "      border-left-color: var(--fill-color);\n",
              "    }\n",
              "    20% {\n",
              "      border-color: transparent;\n",
              "      border-left-color: var(--fill-color);\n",
              "      border-top-color: var(--fill-color);\n",
              "    }\n",
              "    30% {\n",
              "      border-color: transparent;\n",
              "      border-left-color: var(--fill-color);\n",
              "      border-top-color: var(--fill-color);\n",
              "      border-right-color: var(--fill-color);\n",
              "    }\n",
              "    40% {\n",
              "      border-color: transparent;\n",
              "      border-right-color: var(--fill-color);\n",
              "      border-top-color: var(--fill-color);\n",
              "    }\n",
              "    60% {\n",
              "      border-color: transparent;\n",
              "      border-right-color: var(--fill-color);\n",
              "    }\n",
              "    80% {\n",
              "      border-color: transparent;\n",
              "      border-right-color: var(--fill-color);\n",
              "      border-bottom-color: var(--fill-color);\n",
              "    }\n",
              "    90% {\n",
              "      border-color: transparent;\n",
              "      border-bottom-color: var(--fill-color);\n",
              "    }\n",
              "  }\n",
              "</style>\n",
              "\n",
              "  <script>\n",
              "    async function quickchart(key) {\n",
              "      const quickchartButtonEl =\n",
              "        document.querySelector('#' + key + ' button');\n",
              "      quickchartButtonEl.disabled = true;  // To prevent multiple clicks.\n",
              "      quickchartButtonEl.classList.add('colab-df-spinner');\n",
              "      try {\n",
              "        const charts = await google.colab.kernel.invokeFunction(\n",
              "            'suggestCharts', [key], {});\n",
              "      } catch (error) {\n",
              "        console.error('Error during call to suggestCharts:', error);\n",
              "      }\n",
              "      quickchartButtonEl.classList.remove('colab-df-spinner');\n",
              "      quickchartButtonEl.classList.add('colab-df-quickchart-complete');\n",
              "    }\n",
              "    (() => {\n",
              "      let quickchartButtonEl =\n",
              "        document.querySelector('#df-607132a9-1788-4da0-83f1-5ee4463b02ff button');\n",
              "      quickchartButtonEl.style.display =\n",
              "        google.colab.kernel.accessAllowed ? 'block' : 'none';\n",
              "    })();\n",
              "  </script>\n",
              "</div>\n",
              "    </div>\n",
              "  </div>\n"
            ],
            "application/vnd.google.colaboratory.intrinsic+json": {
              "type": "dataframe",
              "variable_name": "df",
              "summary": "{\n  \"name\": \"df\",\n  \"rows\": 1338,\n  \"fields\": [\n    {\n      \"column\": \"age\",\n      \"properties\": {\n        \"dtype\": \"number\",\n        \"std\": 14,\n        \"min\": 18,\n        \"max\": 64,\n        \"num_unique_values\": 47,\n        \"samples\": [\n          21,\n          45,\n          36\n        ],\n        \"semantic_type\": \"\",\n        \"description\": \"\"\n      }\n    },\n    {\n      \"column\": \"sex\",\n      \"properties\": {\n        \"dtype\": \"category\",\n        \"num_unique_values\": 2,\n        \"samples\": [\n          \"male\",\n          \"female\"\n        ],\n        \"semantic_type\": \"\",\n        \"description\": \"\"\n      }\n    },\n    {\n      \"column\": \"bmi\",\n      \"properties\": {\n        \"dtype\": \"number\",\n        \"std\": 6.098186911679017,\n        \"min\": 15.96,\n        \"max\": 53.13,\n        \"num_unique_values\": 548,\n        \"samples\": [\n          23.18,\n          26.885\n        ],\n        \"semantic_type\": \"\",\n        \"description\": \"\"\n      }\n    },\n    {\n      \"column\": \"children\",\n      \"properties\": {\n        \"dtype\": \"number\",\n        \"std\": 1,\n        \"min\": 0,\n        \"max\": 5,\n        \"num_unique_values\": 6,\n        \"samples\": [\n          0,\n          1\n        ],\n        \"semantic_type\": \"\",\n        \"description\": \"\"\n      }\n    },\n    {\n      \"column\": \"smoker\",\n      \"properties\": {\n        \"dtype\": \"category\",\n        \"num_unique_values\": 2,\n        \"samples\": [\n          \"no\",\n          \"yes\"\n        ],\n        \"semantic_type\": \"\",\n        \"description\": \"\"\n      }\n    },\n    {\n      \"column\": \"region\",\n      \"properties\": {\n        \"dtype\": \"category\",\n        \"num_unique_values\": 4,\n        \"samples\": [\n          \"southeast\",\n          \"northeast\"\n        ],\n        \"semantic_type\": \"\",\n        \"description\": \"\"\n      }\n    },\n    {\n      \"column\": \"charges\",\n      \"properties\": {\n        \"dtype\": \"number\",\n        \"std\": 12110.011236693994,\n        \"min\": 1121.8739,\n        \"max\": 63770.42801,\n        \"num_unique_values\": 1337,\n        \"samples\": [\n          8688.85885,\n          5708.867\n        ],\n        \"semantic_type\": \"\",\n        \"description\": \"\"\n      }\n    }\n  ]\n}"
            }
          },
          "metadata": {},
          "execution_count": 19
        }
      ]
    },
    {
      "cell_type": "code",
      "source": [
        "df.dtypes"
      ],
      "metadata": {
        "colab": {
          "base_uri": "https://localhost:8080/",
          "height": 304
        },
        "id": "Zz-C3HBOA0DJ",
        "outputId": "b0cb3134-f43d-4ca9-8ede-4e0de7adef23"
      },
      "execution_count": 20,
      "outputs": [
        {
          "output_type": "execute_result",
          "data": {
            "text/plain": [
              "age           int64\n",
              "sex          object\n",
              "bmi         float64\n",
              "children      int64\n",
              "smoker       object\n",
              "region       object\n",
              "charges     float64\n",
              "dtype: object"
            ],
            "text/html": [
              "<div>\n",
              "<style scoped>\n",
              "    .dataframe tbody tr th:only-of-type {\n",
              "        vertical-align: middle;\n",
              "    }\n",
              "\n",
              "    .dataframe tbody tr th {\n",
              "        vertical-align: top;\n",
              "    }\n",
              "\n",
              "    .dataframe thead th {\n",
              "        text-align: right;\n",
              "    }\n",
              "</style>\n",
              "<table border=\"1\" class=\"dataframe\">\n",
              "  <thead>\n",
              "    <tr style=\"text-align: right;\">\n",
              "      <th></th>\n",
              "      <th>0</th>\n",
              "    </tr>\n",
              "  </thead>\n",
              "  <tbody>\n",
              "    <tr>\n",
              "      <th>age</th>\n",
              "      <td>int64</td>\n",
              "    </tr>\n",
              "    <tr>\n",
              "      <th>sex</th>\n",
              "      <td>object</td>\n",
              "    </tr>\n",
              "    <tr>\n",
              "      <th>bmi</th>\n",
              "      <td>float64</td>\n",
              "    </tr>\n",
              "    <tr>\n",
              "      <th>children</th>\n",
              "      <td>int64</td>\n",
              "    </tr>\n",
              "    <tr>\n",
              "      <th>smoker</th>\n",
              "      <td>object</td>\n",
              "    </tr>\n",
              "    <tr>\n",
              "      <th>region</th>\n",
              "      <td>object</td>\n",
              "    </tr>\n",
              "    <tr>\n",
              "      <th>charges</th>\n",
              "      <td>float64</td>\n",
              "    </tr>\n",
              "  </tbody>\n",
              "</table>\n",
              "</div><br><label><b>dtype:</b> object</label>"
            ]
          },
          "metadata": {},
          "execution_count": 20
        }
      ]
    },
    {
      "cell_type": "code",
      "source": [
        "fig = plt.figure(figsize=(5, 4))\n",
        "axes = fig.add_axes([0, 0, 1, 1])\n",
        "\n",
        "masksmoker = (df['smoker'] == 'yes')\n",
        "\n",
        "# Plot data\n",
        "axes.scatter(df['bmi'][~masksmoker], df['charges'][~masksmoker], color='orange', label=\"Data nonsmoker\", edgecolors='w');\n",
        "axes.scatter(df['bmi'][masksmoker], df['charges'][masksmoker], color='k', label=\"Data smoker\", edgecolors='w');\n",
        "\n",
        "# Plot fits\n",
        "slope, intercept, r_value, _, _ = stats.linregress(df['bmi'][~masksmoker], df['charges'][~masksmoker])\n",
        "axes.plot(df['bmi'][~masksmoker], slope * df['bmi'][~masksmoker] + intercept, linewidth=2.5, color='orange', label='Fit nonsmoker')\n",
        "axes.text(45, 13000, \"r = \" + str(round(r_value, 3)))\n",
        "slope, intercept, r_value, _, _ = stats.linregress(df['bmi'][masksmoker], df['charges'][masksmoker])\n",
        "axes.plot(df['bmi'][masksmoker], slope * df['bmi'][masksmoker] + intercept, linewidth=2.5, color='k', label='Fit smoker')\n",
        "axes.text(42, 58000, \"r = \" + str(round(r_value, 3)))\n",
        "\n",
        "axes.legend(); axes.set_xlabel('BMI'); axes.set_ylabel('Charges'); axes.set_title('Scatter plot');"
      ],
      "metadata": {
        "id": "ZoptCgxFCvjG"
      },
      "execution_count": 21,
      "outputs": []
    },
    {
      "cell_type": "markdown",
      "source": [
        "The previous plot shows us that smokers (black) and non-smokers (orange) are treated differently for insurance purposes. The correlation index for smokers is 0.806 which is a high positive r value (close to 1). This means, as the BMI is bigger for the smokers, the charges are bigger as well. The correlation index is much smaller for non-smokers so the BMI and chargers are not that closely related (have a weaker linear relationship). We can separate the smokers and the nonsmokers to continue analysing the data."
      ],
      "metadata": {
        "id": "aN-eQNh6Drfc"
      }
    },
    {
      "cell_type": "code",
      "source": [
        "# Scatter plot for BMI on the x-axis and the charges on the y-axis for smokers\n",
        "fig = plt.figure(figsize=(5, 4))\n",
        "axes = fig.add_axes([0, 0, 1, 1])\n",
        "\n",
        "smokers = df[df['smoker'] == 'yes']\n",
        "\n",
        "axes.scatter(smokers['bmi'], smokers['charges'], color='k', label=\"Data smoker\", edgecolors='w');\n",
        "\n",
        "slope, intercept, r_value, _, _ = stats.linregress(smokers['bmi'], smokers['charges'])\n",
        "axes.plot(smokers['bmi'], slope * smokers['bmi'] + intercept, linewidth=2.5, color='k', label='Fit smoker')\n",
        "axes.text(42, 58000, \"r = \" + str(round(r_value, 3)))\n",
        "\n",
        "axes.legend(); axes.set_xlabel('BMI'); axes.set_ylabel('Charges'); axes.set_title('Scatter plot');"
      ],
      "metadata": {
        "id": "HcqcKfJ4HoJQ"
      },
      "execution_count": 22,
      "outputs": []
    },
    {
      "cell_type": "code",
      "source": [
        "# a) Using a statistical test, find the optimal threshold BMI where there is significant increase of charges for smokers.\n",
        "# This defines 2 categories (low BMI smokers and high BMI smokers)\n",
        "\n",
        "# We are going to use the T-test to find that value of the BMI so we can separate the previous scatterplot in to two groups\n",
        "# we do this because the charges depend on both the fact if the person is a smoker or non-smoker but also on their body mass\n",
        "\n",
        "def t_test(df, threshold):\n",
        "    low_bmi = smokers[smokers['bmi'] < threshold]['charges']\n",
        "    high_bmi = smokers[smokers['bmi'] >= threshold]['charges']\n",
        "    t_stat, p_value = stats.ttest_ind(low_bmi, high_bmi, equal_var=False)\n",
        "    return p_value\n",
        "\n",
        "thresholds = np.arange(25, 45, 0.1)\n",
        "p_values = []\n",
        "\n",
        "# We can test different thresholds in the range of 20 to 50 with the step of 0.1\n",
        "# from the graph we can already conclude that the bmi threshold is close to 30\n",
        "# with the t-test function, we will test each threshold to find the optimal one\n",
        "# the optimal one has the smallest p value\n",
        "# null hypothesis: no significant difference in insurance charges between smokers with low and high BMI\n",
        "# high p-value (close to 1): we cannot reject the null hypothesis\n",
        "# low p-value (≤ 0.05): we reject the null hypothesis\n",
        "\n",
        "# c) Compute the relevant statistical test and print the result of the estimate and p-value.\n",
        "\n",
        "for threshold in thresholds:\n",
        "    p_value = t_test(df, threshold)\n",
        "    p_values.append(p_value)\n",
        "\n",
        "optimal_threshold_index = np.argmin(p_values)\n",
        "optimal_threshold = thresholds[optimal_threshold_index]\n",
        "optimal_p_value = p_values[optimal_threshold_index]\n",
        "\n",
        "print(f'Optimal BMI threshold: {optimal_threshold:.2f}')\n",
        "print(f'p-value at this threshold: {optimal_p_value:.4f}')"
      ],
      "metadata": {
        "colab": {
          "base_uri": "https://localhost:8080/"
        },
        "id": "rpUJn-wcH3q9",
        "outputId": "114100cf-8c46-411b-e1e5-a8740e9639e2"
      },
      "execution_count": 23,
      "outputs": [
        {
          "output_type": "stream",
          "name": "stdout",
          "text": [
            "Optimal BMI threshold: 30.00\n",
            "p-value at this threshold: 0.0000\n"
          ]
        }
      ]
    },
    {
      "cell_type": "markdown",
      "source": [
        "The p-value for the BMI threshold of 30 is equal to 0. Since this is the lowest possible p-value, this means that there are obvious differences between smokers with bmi lower and higher than 30. We reject the null hypothesis. We can now separate our graphs based on x=30 to further analyse the data."
      ],
      "metadata": {
        "id": "PuVLxsnWSUrO"
      }
    },
    {
      "cell_type": "code",
      "source": [
        "# b) Show the regression fits for these two categories\n",
        "# first category: smokers with bmi lower than 30, second: higher or equal to 30\n",
        "\n",
        "low_bmi_smokers = smokers[smokers['bmi'] < 30]\n",
        "high_bmi_smokers = smokers[smokers['bmi'] >= 30]\n",
        "\n",
        "fig, axes = plt.subplots(2, 1, figsize=(6, 8))\n",
        "\n",
        "# smokers with BMI < 30\n",
        "axes[0].scatter(low_bmi_smokers['bmi'], low_bmi_smokers['charges'], color='b', label=\"Low BMI smokers\", edgecolors='w')\n",
        "\n",
        "slope_low, intercept_low, r_value_low, p_value_low, std_err_low = stats.linregress(low_bmi_smokers['bmi'], low_bmi_smokers['charges'])\n",
        "\n",
        "axes[0].plot(low_bmi_smokers['bmi'], slope_low * low_bmi_smokers['bmi'] + intercept_low, linewidth=2.5, color='b', label='Fit BMI < 30')\n",
        "\n",
        "axes[0].legend()\n",
        "axes[0].set_xlabel('BMI')\n",
        "axes[0].set_ylabel('Charges')\n",
        "axes[0].set_title('Smokers with BMI < 30')\n",
        "\n",
        "# smokers with BMI >= 30\n",
        "axes[1].scatter(high_bmi_smokers['bmi'], high_bmi_smokers['charges'], color='g', label=\"High BMI smokers\", edgecolors='w')\n",
        "\n",
        "slope_high, intercept_high, r_value_high, p_value_high, std_err_high = stats.linregress(high_bmi_smokers['bmi'], high_bmi_smokers['charges'])\n",
        "\n",
        "axes[1].plot(high_bmi_smokers['bmi'], slope_high * high_bmi_smokers['bmi'] + intercept_high, linewidth=2.5, color='g', label='Fit BMI >= 30')\n",
        "\n",
        "axes[1].legend()\n",
        "axes[1].set_xlabel('BMI')\n",
        "axes[1].set_ylabel('Charges')\n",
        "axes[1].set_title('Smokers with BMI >= 30')\n",
        "\n",
        "plt.tight_layout()\n",
        "plt.show()\n"
      ],
      "metadata": {
        "id": "AEXMuoLgS6C_"
      },
      "execution_count": 24,
      "outputs": []
    },
    {
      "cell_type": "markdown",
      "source": [
        "For smokers with a BMI below 30, higher BMI is mostly associated with higher insurance charges (positive correlation between the two variables), but the variation in charges is less extreme compared to the high BMI group which has a steeper regression line. We could print the std error, the slope and the r-value if we wanted a better comparison of the two groups."
      ],
      "metadata": {
        "id": "0a7JRzGCpxrR"
      }
    },
    {
      "cell_type": "code",
      "source": [
        "# c) Create a barplot showing the mean and standard error of charges for the two categories.\n",
        "# Compute the relevant statistical test and print the result of the estimate and p-value. (already done)\n",
        "\n",
        "# mean and standard deviation of charges for low and high BMI smokers\n",
        "mean_charges_low = low_bmi_smokers['charges'].mean()\n",
        "std_charges_low = low_bmi_smokers['charges'].std() / np.sqrt(len(low_bmi_smokers['charges']))\n",
        "\n",
        "mean_charges_high = high_bmi_smokers['charges'].mean()\n",
        "std_charges_high = high_bmi_smokers['charges'].std() / np.sqrt(len(high_bmi_smokers['charges']))\n",
        "\n",
        "fig, ax = plt.subplots()\n",
        "ax.bar(['Smokers with BMI < 30', 'Smokers with BMI >= 30'], [mean_charges_low, mean_charges_high], yerr=[std_charges_low, std_charges_high])\n",
        "ax.set_ylabel('Mean Charges')\n",
        "ax.set_title('Mean Charges for Low and High BMI Smokers')\n",
        "plt.show()\n",
        "\n",
        "# the p-value we previously calculated\n",
        "print(f'p-value at threshold 30: {optimal_p_value:.4f}')"
      ],
      "metadata": {
        "id": "9Hj8jmU3mpS5"
      },
      "execution_count": 24,
      "outputs": []
    },
    {
      "cell_type": "markdown",
      "source": [
        "\n",
        "# ROC Curve\n",
        "\n",
        "## Advanced part\n",
        "\n",
        "As expected, smokers with a higher BMI have a larger mean for insurance charges. The standard error bars in the bar plot show that the mean charges in both groups don't vary much. So if we resampled the data, the mean would be similar again. However, from the scatterplot, we can see that individual charges vary significantly, particularly for the low BMI group, where many data points are not close to the regression line."
      ],
      "metadata": {
        "id": "Z40PtPCQuZFO"
      }
    },
    {
      "cell_type": "markdown",
      "source": [
        "If we want to test how well we would classify smokers into the two groups (low and high BMI) only based on their insurance charges, we could plot the ROC curve and compute AUC - the area under it. If low BMI smokers are class 0 and high BMI smokers are class 1, a classifier model can make true positives (successfully classified high BMI smokers), false positives (low BMI classified as high BMI), true negatives (successfully classified low BMI) and false negatives (high BMI classifed as low BMI). The ROC and AUC give us more insight into that kind of data."
      ],
      "metadata": {
        "id": "xlUeo3SQyZ8V"
      }
    },
    {
      "cell_type": "code",
      "source": [
        "# d) Plot a ROC curve showing the classification of the two categories by charges.\n",
        "\n",
        "from sklearn.metrics import roc_curve, roc_auc_score\n",
        "\n",
        "# low bmi smokers are class 0, high bmi are class 1. these are the true labels\n",
        "labels = np.concatenate((np.zeros(len(low_bmi_smokers)), np.ones(len(high_bmi_smokers))))\n",
        "\n",
        "# the predicted scores\n",
        "# higher charges are expected for higher bmi smokers, and lower charges are for lower bmi smokers\n",
        "scores = np.concatenate((low_bmi_smokers['charges'], high_bmi_smokers['charges']))\n",
        "\n",
        "false_positive_rate, true_positive_rate, thresholds = roc_curve(labels, scores)\n",
        "\n",
        "fig, ax = plt.subplots()\n",
        "ax.plot(false_positive_rate, true_positive_rate)\n",
        "\n",
        "# baseline for random guessing\n",
        "ax.plot([0, 1], [0, 1], 'k--')\n",
        "\n",
        "ax.set_xlabel('False Positive Rate')\n",
        "ax.set_ylabel('True Positive Rate')\n",
        "ax.set_title('ROC Curve')\n",
        "plt.show()"
      ],
      "metadata": {
        "id": "QI035v7XxlsP"
      },
      "execution_count": 24,
      "outputs": []
    },
    {
      "cell_type": "code",
      "source": [
        "#  d) Compute the AUC, the corresponding statistical test and report the estimate and p-value.\n",
        "\n",
        "auc = roc_auc_score(labels, scores)\n",
        "print(f'AUC: {auc:.2f}')\n",
        "\n",
        "# z-test to be sure that the classifications have not been done just randomly\n",
        "# for the z-score formula we need to calculate the standard error of the AUC\n",
        "n1 = len(low_bmi_smokers)\n",
        "n2 = len(high_bmi_smokers)\n",
        "q1 = auc / (2 - auc)\n",
        "q2 = 2 * auc**2 / (1 + auc)\n",
        "se_auc = np.sqrt((auc * (1 - auc) + (n1 - 1) * (q1 - auc**2) + (n2 - 1) * (q2 - auc**2)) / (n1 * n2))\n",
        "\n",
        "z = auc / se_auc\n",
        "\n",
        "# calculate the p-value as well for a two tail z test\n",
        "p_value = 2 * (1 - stats.norm.cdf(abs(z)))\n",
        "print(f'p-value: {p_value:.4f}')"
      ],
      "metadata": {
        "colab": {
          "base_uri": "https://localhost:8080/"
        },
        "id": "6m0FkKHt0mgi",
        "outputId": "cb181220-f42b-468b-c083-fe64432f2384"
      },
      "execution_count": null,
      "outputs": [
        {
          "output_type": "stream",
          "name": "stdout",
          "text": [
            "AUC: 0.99\n",
            "p-value: 0.0000\n"
          ]
        }
      ]
    },
    {
      "cell_type": "markdown",
      "source": [
        "Since the AUC is close to 1 and the p-value of the z test is zero, we can conclude that the test didn't classify the smokers into low and high BMI groups randomly and that they can be classified well based on their insurance charges. So, there is a clear difference between the groups and the bigger the charges, the bigger the BMI."
      ],
      "metadata": {
        "id": "6SjtsHrCyY5m"
      }
    }
  ]
}
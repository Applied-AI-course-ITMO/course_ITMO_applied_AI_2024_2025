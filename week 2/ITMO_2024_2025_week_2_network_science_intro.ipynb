{
  "cells": [
    {
      "cell_type": "markdown",
      "metadata": {
        "id": "_EcZccPBNU9Q"
      },
      "source": [
        "# Network introduction\n",
        "Main parts of the course:\n",
        "1. networks definitions and network measures\n",
        "2. networks in time  \n",
        "3. networks from data\n",
        "\n",
        "This notebook was inspired from:\n",
        "* Big data course from 2019 Marc and Liubov https://github.com/Big-data-course-CRI/materials_big_data_cri_2019\n",
        "* Bruno Gonçalves / Data4Sci: https://github.com/DataForScience/Networks\n",
        "* Michael Szell data course https://github.com/mszell\n",
        "\n",
        "\n",
        "\n",
        "# Network libraries\n",
        "\n",
        "If we want to use the network theory calculation in python, it is easier to load a library.\n",
        "\n",
        "https://networkx.org/\n",
        "\n",
        "If you use this library, you do not need to deal with all the classes encoding of network structures yourself.\n",
        "\n",
        "\n",
        "# Structure of the notebook\n",
        "1. First we add and encode networks ourselves NOT using precoded class of networks\n",
        "2. We can use networkx class for network object (see below cells)."
      ]
    },
    {
      "cell_type": "code",
      "source": [],
      "metadata": {
        "id": "eRtI_vpm4YHe"
      },
      "execution_count": null,
      "outputs": []
    },
    {
      "cell_type": "code",
      "execution_count": 2,
      "metadata": {
        "id": "4WUVL3ugNU9X"
      },
      "outputs": [],
      "source": [
        "from collections import Counter\n",
        "from pprint import pprint\n",
        "\n",
        "import numpy as np\n",
        "import matplotlib.pyplot as plt"
      ]
    },
    {
      "cell_type": "markdown",
      "metadata": {
        "id": "ZVYkrE4YNU9a"
      },
      "source": [
        "# 1. Network definition and generation\n",
        "We can use edge list for generation of a network."
      ]
    },
    {
      "cell_type": "markdown",
      "metadata": {
        "id": "gbrBDxoANU9c"
      },
      "source": [
        "Let us start by defining a list of edges. This will give us our first \"dataset\" to work with"
      ]
    },
    {
      "cell_type": "code",
      "execution_count": 5,
      "metadata": {
        "id": "7vnGun4PNU9h",
        "colab": {
          "base_uri": "https://localhost:8080/"
        },
        "outputId": "3b7a5f7e-21dd-40c5-dde3-ddc567c62b72"
      },
      "outputs": [
        {
          "output_type": "stream",
          "name": "stdout",
          "text": [
            "number of edges in the first list is  5\n",
            "type of edge list  <class 'list'>\n"
          ]
        }
      ],
      "source": [
        "edge_list = [\n",
        "    ('A', 'B'), # one friendship encoded\n",
        "    ('A', 'C'), # another friendship encoded...\n",
        "    ('A', 'E'),\n",
        "    ('B', 'C'),\n",
        "    ('C', 'D'),\n",
        "    ('C', 'E'),\n",
        "    ('D', 'E'),\n",
        "    ('D', 'A'),\n",
        "    ('F', 'Leon')]\n",
        "\n",
        "# please, try to create your own edge_list:\n",
        "edge_list1 = [(1,2), (1,3), (5,6), (10, 3), (2,3)]\n",
        "\n",
        "edge_list2 = [(1,2), (1,3), (2,4)]\n",
        "\n",
        "number_edges = len(edge_list1)\n",
        "print('number of edges in the first list is ', number_edges)\n",
        "\n",
        "\n",
        "print('type of edge list ', type(edge_list))"
      ]
    },
    {
      "cell_type": "code",
      "source": [
        "#from google.colab import drive\n",
        "#drive.mount('/content/drive')"
      ],
      "metadata": {
        "id": "v81voC2Yv8Tp"
      },
      "execution_count": null,
      "outputs": []
    },
    {
      "cell_type": "code",
      "source": [],
      "metadata": {
        "id": "mbau8LaLhUbd"
      },
      "execution_count": null,
      "outputs": []
    },
    {
      "cell_type": "code",
      "source": [],
      "metadata": {
        "id": "rxR_SgJ0hVze"
      },
      "execution_count": null,
      "outputs": []
    },
    {
      "cell_type": "code",
      "source": [
        "print('How to see elements in the edge list?')\n",
        "\n",
        "print(type(edge_list[1]))\n",
        "\n",
        "print(edge_list[0])\n",
        "\n",
        "print(edge_list[1])\n",
        "\n",
        "print(edge_list[1][1])\n",
        "\n",
        "print(type(edge_list[1][1]))\n"
      ],
      "metadata": {
        "colab": {
          "base_uri": "https://localhost:8080/"
        },
        "id": "x_fWs5aX9wgU",
        "outputId": "a00a7ce8-594f-4f75-b895-d28c5caa4406"
      },
      "execution_count": 4,
      "outputs": [
        {
          "output_type": "stream",
          "name": "stdout",
          "text": [
            "How to see elements in the edge list?\n",
            "<class 'tuple'>\n",
            "('A', 'B')\n",
            "('A', 'C')\n",
            "C\n",
            "<class 'str'>\n"
          ]
        }
      ]
    },
    {
      "cell_type": "markdown",
      "metadata": {
        "id": "CCD7o1g1NU9m"
      },
      "source": [
        "This is a particularly useful representation as many datasets are distributed in this (or a closely related) format. From this list, we can easily measure the number of edges that constitute our network.\n",
        "\n",
        "Its main limitations are that it has no way to explictly take into account disconnected nodes (it only accounts for nodes that are part of edges) and no indication on whether it is directed or not."
      ]
    },
    {
      "cell_type": "code",
      "execution_count": null,
      "metadata": {
        "id": "ff_40a7FNU9m",
        "outputId": "48d775e7-d9a9-4c75-b168-2485c1d0b8dd",
        "colab": {
          "base_uri": "https://localhost:8080/"
        }
      },
      "outputs": [
        {
          "output_type": "stream",
          "name": "stdout",
          "text": [
            "8\n"
          ]
        }
      ],
      "source": [
        "number_edges = len(edge_list)\n",
        "print(number_edges)"
      ]
    },
    {
      "cell_type": "markdown",
      "metadata": {
        "id": "LCfejzldNU9n"
      },
      "source": [
        "# How to calculate number of nodes in our network?\n",
        "\n",
        "Mind that some nodes are part of several edges!!!\n",
        "\n",
        "\n",
        "To get the number of node is a bit trickier. We must go edge by edge and keep track of all new nodes. For efficiency, we use a set to automatically remove duplicates"
      ]
    },
    {
      "cell_type": "code",
      "execution_count": 6,
      "metadata": {
        "id": "0Irlj9qrNU9o",
        "outputId": "f338c903-ab55-4c1f-dc37-ca7b8bc43a85",
        "colab": {
          "base_uri": "https://localhost:8080/"
        }
      },
      "outputs": [
        {
          "output_type": "stream",
          "name": "stdout",
          "text": [
            "('A', 'B')\n",
            "{'A', 'B'}\n",
            "('A', 'C')\n",
            "{'A', 'B', 'C'}\n",
            "('A', 'E')\n",
            "{'A', 'E', 'B', 'C'}\n",
            "('B', 'C')\n",
            "{'A', 'E', 'B', 'C'}\n",
            "('C', 'D')\n",
            "{'A', 'C', 'E', 'B', 'D'}\n",
            "('C', 'E')\n",
            "{'A', 'C', 'E', 'B', 'D'}\n",
            "('D', 'E')\n",
            "{'A', 'C', 'E', 'B', 'D'}\n",
            "('D', 'A')\n",
            "{'A', 'C', 'E', 'B', 'D'}\n",
            "('F', 'Leon')\n",
            "{'A', 'C', 'F', 'E', 'Leon', 'B', 'D'}\n",
            "7\n"
          ]
        }
      ],
      "source": [
        "# we gave the information to computer which contains only information about edges\n",
        "nodes = set() # in the beginning we have empty set of nodes\n",
        "\n",
        "for edge in edge_list: # for loop for our network\n",
        "    print(edge)\n",
        "    nodes.update(edge) # loop through each link in our list of edges\n",
        "    # function called 'update' is adding only new elements into the set of nodes\n",
        "    print(nodes)\n",
        "\n",
        "number_nodes = len(nodes)\n",
        "print(number_nodes)"
      ]
    },
    {
      "cell_type": "markdown",
      "metadata": {
        "id": "Zm951__MNU9r"
      },
      "source": [
        "Now we know that we have 5 nodes and 7 edges in our network. The node ids are:"
      ]
    },
    {
      "cell_type": "code",
      "execution_count": null,
      "metadata": {
        "id": "yUQ3aZoONU9r",
        "outputId": "48f0a606-4bb9-41f5-8f4c-eb82cd84c694",
        "colab": {
          "base_uri": "https://localhost:8080/"
        }
      },
      "outputs": [
        {
          "output_type": "stream",
          "name": "stdout",
          "text": [
            "length of nodes set 5\n"
          ]
        }
      ],
      "source": [
        "nodes\n",
        "\n",
        "print('length of nodes set', len(nodes))"
      ]
    },
    {
      "cell_type": "markdown",
      "metadata": {
        "id": "2ogsL8tGNU9u"
      },
      "source": [
        "Using Adjacency List for network generation.\n",
        "\n",
        "**Important:** you may generate and build network from your data using adjacency list."
      ]
    },
    {
      "cell_type": "markdown",
      "metadata": {
        "id": "n27hgo2hNU9w"
      },
      "source": [
        "A closely related data structure to the edge list is the adjacency list. In this formulation, we use a dictionary to map each node to its set of neighbors"
      ]
    },
    {
      "cell_type": "code",
      "execution_count": 7,
      "metadata": {
        "id": "NE5MT9VmNU9w"
      },
      "outputs": [],
      "source": [
        "adj_list = {} # dictionary\n",
        "\n",
        "for node_i, node_j in edge_list:\n",
        "    if node_i not in adj_list: # checking condition that node_i\n",
        "        adj_list[node_i] = set()\n",
        "\n",
        "    adj_list[node_i].add(node_j)"
      ]
    },
    {
      "cell_type": "markdown",
      "metadata": {
        "id": "0eLbWYThNU9x"
      },
      "source": [
        "Our adjaceny list is then:"
      ]
    },
    {
      "cell_type": "code",
      "execution_count": 8,
      "metadata": {
        "id": "u1BccC6eNU9x",
        "outputId": "7eea3a88-f307-41c4-eb71-7daf5e73f0a9",
        "colab": {
          "base_uri": "https://localhost:8080/"
        }
      },
      "outputs": [
        {
          "output_type": "stream",
          "name": "stdout",
          "text": [
            "{'A': {'C', 'B', 'E'},\n",
            " 'B': {'C'},\n",
            " 'C': {'D', 'E'},\n",
            " 'D': {'A', 'E'},\n",
            " 'F': {'Leon'}}\n",
            "<class 'dict'>\n"
          ]
        }
      ],
      "source": [
        "pprint(adj_list)\n",
        "\n",
        "print(type(adj_list))"
      ]
    },
    {
      "cell_type": "markdown",
      "metadata": {
        "id": "bD8UfhWwNU9y"
      },
      "source": [
        "In this approach we inherently assumed that our network is directed (or, equivalently, that both edge directions are present in the data). To generate an undirected version we must make a simple modification to our code to manually add the opposite direction edge"
      ]
    },
    {
      "cell_type": "code",
      "execution_count": 9,
      "metadata": {
        "id": "z5i1M3_BNU90"
      },
      "outputs": [],
      "source": [
        "adj_list = {}\n",
        "\n",
        "for node_i, node_j in edge_list:\n",
        "    if node_i not in adj_list:\n",
        "        adj_list[node_i] = set() # 'set' is used to prevent accidental multiple edges\n",
        "\n",
        "    adj_list[node_i].add(node_j)\n",
        "\n",
        "    # Manually add the opposite direction edge\n",
        "    if node_j not in adj_list:\n",
        "        adj_list[node_j] = set()\n",
        "\n",
        "    adj_list[node_j].add(node_i)"
      ]
    },
    {
      "cell_type": "markdown",
      "metadata": {
        "id": "nbmybfEvNU91"
      },
      "source": [
        "The undirected adjacency list represenation is then:"
      ]
    },
    {
      "cell_type": "code",
      "execution_count": null,
      "metadata": {
        "id": "Vc1vbT-fNU92",
        "outputId": "9a426c27-6ca3-444d-c33f-6175c8c4f474",
        "colab": {
          "base_uri": "https://localhost:8080/"
        }
      },
      "outputs": [
        {
          "output_type": "stream",
          "name": "stdout",
          "text": [
            "{'A': {'C', 'E', 'B'},\n",
            " 'B': {'C', 'A'},\n",
            " 'C': {'E', 'A', 'D', 'B'},\n",
            " 'D': {'C', 'E'},\n",
            " 'E': {'C', 'A', 'D'}}\n"
          ]
        }
      ],
      "source": [
        "pprint(adj_list)"
      ]
    },
    {
      "cell_type": "markdown",
      "metadata": {
        "id": "zMLBaqSUNU93"
      },
      "source": [
        "# Adjacency Matrix\n",
        "Generation of a network using matrix."
      ]
    },
    {
      "cell_type": "markdown",
      "metadata": {
        "id": "7kA29oEENU94"
      },
      "source": [
        "We now move on to generating an Adjacency Matrix view of the network. For this we must have two things:\n",
        "\n",
        "- the number of nodes in the network\n",
        "- A mapping between the original node ids and a sequential numerical ID\n",
        "\n",
        "We start by building out the numerical ID mapping. As we do, we get the number of nodes for free"
      ]
    },
    {
      "cell_type": "code",
      "execution_count": 11,
      "metadata": {
        "id": "oWdMQpc_NU95"
      },
      "outputs": [],
      "source": [
        "node_id = {}\n",
        "node_count = 0\n",
        "\n",
        "# let us create adjacency matrix from scratch\n",
        "\n",
        "for node_i, node_j in edge_list:\n",
        "    if node_i not in node_id:\n",
        "        node_id[node_i] = node_count\n",
        "        node_count += 1\n",
        "\n",
        "    # Make sure we have an id for both nodes\n",
        "    # This is necessary, irregardless of whether the network is directed or undirected\n",
        "    if node_j not in node_id:\n",
        "        node_id[node_j] = node_count\n",
        "        node_count += 1"
      ]
    },
    {
      "cell_type": "markdown",
      "metadata": {
        "id": "R-3JdeRxNU95"
      },
      "source": [
        "We can check that each of the original node ids is correctly mapped to a sequential number"
      ]
    },
    {
      "cell_type": "code",
      "execution_count": 12,
      "metadata": {
        "id": "GhKGv1HsNU96",
        "outputId": "123ffb88-8cb7-476f-d692-2a92468337a7",
        "colab": {
          "base_uri": "https://localhost:8080/"
        }
      },
      "outputs": [
        {
          "output_type": "execute_result",
          "data": {
            "text/plain": [
              "{'A': 0, 'B': 1, 'C': 2, 'E': 3, 'D': 4, 'F': 5, 'Leon': 6}"
            ]
          },
          "metadata": {},
          "execution_count": 12
        }
      ],
      "source": [
        "node_id"
      ]
    },
    {
      "cell_type": "markdown",
      "metadata": {
        "id": "Gh1daKjZNU96"
      },
      "source": [
        "Finally, we are ready to build our adjacency matrix. We start by declaring the data structurewe will use"
      ]
    },
    {
      "cell_type": "code",
      "execution_count": 13,
      "metadata": {
        "id": "5lRVc-rONU97"
      },
      "outputs": [],
      "source": [
        "adj_matrix = np.zeros((node_count, node_count), dtype='int') # the matrix initially has zeros 0"
      ]
    },
    {
      "cell_type": "markdown",
      "metadata": {
        "id": "fln5QRctNU97"
      },
      "source": [
        "And we can now populate the matrix entries. For generality, we'll include a flag to control wether or not the graph is directed. As we don't have any weights associated with our edges, we assign to each of them a value of 1."
      ]
    },
    {
      "cell_type": "code",
      "execution_count": null,
      "metadata": {
        "id": "b6Ci5o2SNU97"
      },
      "outputs": [],
      "source": [
        "is_directed = False\n",
        "\n",
        "for node_i, node_j in edge_list:\n",
        "    # Get the correct node ids\n",
        "    node_i = node_id[node_i]\n",
        "    node_j = node_id[node_j]\n",
        "\n",
        "    adj_matrix[node_i, node_j] = 1 # Unweighted network : if there is a connection we fill it out with 1\n",
        "\n",
        "    if not is_directed:\n",
        "        adj_matrix[node_j, node_i] = 1 # Undirected networks"
      ]
    },
    {
      "cell_type": "markdown",
      "metadata": {
        "id": "2SJAGr66NU97"
      },
      "source": [
        "Our Adjacency Matrix is then:"
      ]
    },
    {
      "cell_type": "code",
      "execution_count": null,
      "metadata": {
        "id": "-ueOIQokNU98",
        "outputId": "e2d7c111-1b61-48a9-9c65-b57062713385",
        "colab": {
          "base_uri": "https://localhost:8080/"
        }
      },
      "outputs": [
        {
          "output_type": "execute_result",
          "data": {
            "text/plain": [
              "array([[0, 1, 1, 1, 0],\n",
              "       [1, 0, 1, 0, 0],\n",
              "       [1, 1, 0, 1, 1],\n",
              "       [1, 0, 1, 0, 1],\n",
              "       [0, 0, 1, 1, 0]])"
            ]
          },
          "metadata": {},
          "execution_count": 9
        }
      ],
      "source": [
        "adj_matrix"
      ]
    },
    {
      "cell_type": "markdown",
      "metadata": {
        "id": "AjJJuvHBNU98"
      },
      "source": [
        "As we can see, the Adjacency matrix representation is very wasteful, using 25 values to store a 7 (14) edge network plus 5 dictionary entries for the id mappings."
      ]
    },
    {
      "cell_type": "markdown",
      "metadata": {
        "id": "TeS_z1tiNU99"
      },
      "source": [
        "# Adjacency Dictionary"
      ]
    },
    {
      "cell_type": "markdown",
      "metadata": {
        "id": "VDbcU28UNU99"
      },
      "source": [
        "The final graph representation we will explore is the Adjacency Dict. This is a generalization of the Adjacency List covered above that is a bit more flexible and is able to accuratly account for diconnected nodes, weights, etc. For this we will need two datastructures, one to store node information and one for edges. For the sake of flexbility, we will use dicts for both."
      ]
    },
    {
      "cell_type": "code",
      "execution_count": null,
      "metadata": {
        "id": "_7GOdiZ3NU9-"
      },
      "outputs": [],
      "source": [
        "nodes = {}\n",
        "edges = {}\n",
        "is_directed = False"
      ]
    },
    {
      "cell_type": "markdown",
      "metadata": {
        "id": "8w7yUmE7NU9-"
      },
      "source": [
        "And we can now populate them from our original edge_list"
      ]
    },
    {
      "cell_type": "code",
      "execution_count": null,
      "metadata": {
        "id": "aPizMOP5NU9-"
      },
      "outputs": [],
      "source": [
        "for node_i, node_j in edge_list:\n",
        "    if node_i not in nodes:\n",
        "        nodes[node_i] = {}\n",
        "        edges[node_i] = {}\n",
        "\n",
        "    if node_j not in nodes:\n",
        "        nodes[node_j] = {}\n",
        "\n",
        "        if not is_directed:\n",
        "            edges[node_j] = {}\n",
        "\n",
        "    edges[node_i][node_j] = {}\n",
        "\n",
        "    if not is_directed:\n",
        "        edges[node_j][node_i] = {}"
      ]
    },
    {
      "cell_type": "markdown",
      "metadata": {
        "id": "jB-ZAIljNU9_"
      },
      "source": [
        "Our set of nodes is:"
      ]
    },
    {
      "cell_type": "code",
      "execution_count": null,
      "metadata": {
        "id": "QFlh1VUHNU9_",
        "outputId": "621b7c41-f9e5-4390-da93-d92aecb28e20",
        "colab": {
          "base_uri": "https://localhost:8080/"
        }
      },
      "outputs": [
        {
          "output_type": "execute_result",
          "data": {
            "text/plain": [
              "{'A': {}, 'B': {}, 'C': {}, 'D': {}, 'E': {}}"
            ]
          },
          "metadata": {},
          "execution_count": 12
        }
      ],
      "source": [
        "nodes"
      ]
    },
    {
      "cell_type": "markdown",
      "metadata": {
        "id": "T4v_z6OdNU-A"
      },
      "source": [
        "Where we chose to use dictinaries to allow for the storage of node attributes. Further, our edges are now:"
      ]
    },
    {
      "cell_type": "code",
      "execution_count": null,
      "metadata": {
        "id": "t6zlSdtXNU-A",
        "outputId": "73a86d98-85c1-4910-9f2e-d03f9f38554b",
        "colab": {
          "base_uri": "https://localhost:8080/"
        }
      },
      "outputs": [
        {
          "output_type": "execute_result",
          "data": {
            "text/plain": [
              "{'A': {'B': {}, 'C': {}, 'E': {}},\n",
              " 'B': {'A': {}, 'C': {}},\n",
              " 'C': {'A': {}, 'B': {}, 'D': {}, 'E': {}},\n",
              " 'D': {'C': {}, 'E': {}},\n",
              " 'E': {'A': {}, 'C': {}, 'D': {}}}"
            ]
          },
          "metadata": {},
          "execution_count": 13
        }
      ],
      "source": [
        "edges"
      ]
    },
    {
      "cell_type": "markdown",
      "metadata": {
        "id": "xcSnKTWvNU-B"
      },
      "source": [
        "Where we once again opted to associate a dictionary to each edge. This gives us the ability to associate edge information (such as weights, etc) to each node.\n",
        "\n",
        "As we can see, this is the most flexible representation and can be easily converted to one of the other representations if necessary so we will use this approach for the rest of the lecture."
      ]
    },
    {
      "cell_type": "markdown",
      "metadata": {
        "id": "hf1VwQZZNU-I"
      },
      "source": [
        "Let us try to use networkx library in the next notebook."
      ]
    },
    {
      "cell_type": "code",
      "source": [],
      "metadata": {
        "id": "9Bi_TF83RmNz"
      },
      "execution_count": null,
      "outputs": []
    }
  ],
  "metadata": {
    "celltoolbar": "Slideshow",
    "kernelspec": {
      "display_name": "Python 3",
      "language": "python",
      "name": "python3"
    },
    "language_info": {
      "codemirror_mode": {
        "name": "ipython",
        "version": 3
      },
      "file_extension": ".py",
      "mimetype": "text/x-python",
      "name": "python",
      "nbconvert_exporter": "python",
      "pygments_lexer": "ipython3",
      "version": "3.7.3"
    },
    "colab": {
      "provenance": []
    }
  },
  "nbformat": 4,
  "nbformat_minor": 0
}